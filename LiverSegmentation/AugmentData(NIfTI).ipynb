{
 "cells": [
  {
   "cell_type": "markdown",
   "metadata": {},
   "source": [
    "# Resize NIFTI"
   ]
  },
  {
   "cell_type": "code",
   "execution_count": 3,
   "metadata": {},
   "outputs": [
    {
     "name": "stdout",
     "output_type": "stream",
     "text": [
      "From: liver1\n",
      "285 285 206\n",
      "285 285 206\n",
      "Saved as: liver91\n",
      "From: liver1\n",
      "289 289 206\n",
      "289 289 206\n",
      "Saved as: liver92\n",
      "From: liver1\n",
      "295 295 206\n",
      "295 295 206\n",
      "Saved as: liver93\n",
      "From: liver1\n",
      "290 290 206\n",
      "290 290 206\n",
      "Saved as: liver94\n",
      "From: liver1\n",
      "282 282 206\n",
      "282 282 206\n",
      "Saved as: liver95\n",
      "From: liver1\n",
      "282 282 206\n",
      "282 282 206\n",
      "Saved as: liver96\n",
      "From: liver1\n",
      "295 295 206\n",
      "295 295 206\n",
      "Saved as: liver97\n",
      "From: liver1\n",
      "284 284 206\n",
      "284 284 206\n",
      "Saved as: liver98\n",
      "From: liver1\n",
      "295 295 206\n",
      "295 295 206\n",
      "Saved as: liver99\n",
      "From: liver1\n",
      "290 290 206\n",
      "290 290 206\n",
      "Saved as: liver100\n"
     ]
    }
   ],
   "source": [
    "import os\n",
    "import cv2\n",
    "import numpy as np\n",
    "import nibabel as nib\n",
    "import random\n",
    "from natsort import natsorted\n",
    "\n",
    "def resizeAndSaveNifty(path, var, inter):\n",
    "    initial_image = nib.load(path).get_fdata()\n",
    "    new_size_x = initial_image.shape[0] + var\n",
    "    new_size_y = initial_image.shape[1] + var\n",
    "    slices = initial_image.shape[2]\n",
    "    print(new_size_x, new_size_y, slices)\n",
    "    new_data = np.zeros((new_size_x, new_size_y, slices))\n",
    "\n",
    "    for i in range(0,slices):\n",
    "        temp_slice = cv2.resize(initial_image[..., i], (new_size_x, new_size_y), interpolation=inter)\n",
    "        new_data[...,i] = temp_slice\n",
    "\n",
    "    return nib.Nifti1Image(new_data, np.eye(4))\n",
    "\n",
    "\n",
    "def resizeNiftyFolder(path):\n",
    "    newNumber = 0\n",
    "    filesList = natsorted(os.listdir(path+imagesFolder))\n",
    "    filesRange = len(filesList)\n",
    "    fileNumber = filesRange \n",
    "    maxFileNumber = 100\n",
    "\n",
    "    for filename in filesList:\n",
    "        while fileNumber < maxFileNumber:\n",
    "            newNumber += 1\n",
    "            print('From: '+filename[:-4])\n",
    "            fileNumber = filesRange + newNumber\n",
    "\n",
    "            var = random.randint(-10, 10)\n",
    "            img = resizeAndSaveNifty(path+imagesFolder+filename, var, inter=cv2.INTER_CUBIC)\n",
    "            label = resizeAndSaveNifty(path+labelsFolder+filename, var, inter=cv2.INTER_NEAREST)\n",
    "            \n",
    "            print('Saved as: liver'+str(fileNumber))\n",
    "            img.to_filename(path+imagesFolder+'liver'+str(fileNumber))\n",
    "            label.to_filename(path+labelsFolder+'liver'+str(fileNumber))\n",
    "\n",
    "imagesFolder = '/images/'\n",
    "labelsFolder = '/labels/'\n",
    "resizeNiftyFolder(r'C:\\Users\\User\\Downloads\\deepvesselnet (2)\\dataset\\train')\n"
   ]
  }
 ],
 "metadata": {
  "kernelspec": {
   "display_name": "Python 3.10.5 64-bit",
   "language": "python",
   "name": "python3"
  },
  "language_info": {
   "codemirror_mode": {
    "name": "ipython",
    "version": 3
   },
   "file_extension": ".py",
   "mimetype": "text/x-python",
   "name": "python",
   "nbconvert_exporter": "python",
   "pygments_lexer": "ipython3",
   "version": "3.10.5"
  },
  "orig_nbformat": 4,
  "vscode": {
   "interpreter": {
    "hash": "afb734500600fd355917ca529030176ea0ca205570884b88f2f6f7d791fd3fbe"
   }
  }
 },
 "nbformat": 4,
 "nbformat_minor": 2
}
